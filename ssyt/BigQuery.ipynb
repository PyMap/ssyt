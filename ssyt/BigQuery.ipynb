{
 "cells": [
  {
   "cell_type": "code",
   "execution_count": null,
   "id": "a2ee81d0",
   "metadata": {},
   "outputs": [],
   "source": [
    "from google.cloud import bigquery\n",
    "from google.oauth2 import service_account"
   ]
  },
  {
   "cell_type": "code",
   "execution_count": null,
   "id": "278ec665",
   "metadata": {},
   "outputs": [],
   "source": [
    "import yaml"
   ]
  },
  {
   "cell_type": "code",
   "execution_count": null,
   "id": "cc7c7f6d",
   "metadata": {},
   "outputs": [],
   "source": [
    "import os"
   ]
  },
  {
   "cell_type": "code",
   "execution_count": null,
   "id": "9ed71051",
   "metadata": {},
   "outputs": [],
   "source": [
    "with open(os.getenv('config', \".\") + \"/config/ssyt_settings.yaml\") as f:\n",
    "    cfg = yaml.safe_load(f)\n",
    "\n",
    "project_id = cfg['bigquery']['project_id']\n",
    "service_account_key = cfg['bigquery']['credentials']"
   ]
  },
  {
   "cell_type": "code",
   "execution_count": null,
   "id": "4905feb4",
   "metadata": {},
   "outputs": [],
   "source": [
    "project_id"
   ]
  },
  {
   "cell_type": "code",
   "execution_count": null,
   "id": "d187a328",
   "metadata": {},
   "outputs": [],
   "source": [
    "service_account_key"
   ]
  },
  {
   "cell_type": "code",
   "execution_count": null,
   "id": "710b5ba2",
   "metadata": {},
   "outputs": [],
   "source": []
  }
 ],
 "metadata": {
  "kernelspec": {
   "display_name": "ssyt",
   "language": "python",
   "name": "ssyt"
  },
  "language_info": {
   "codemirror_mode": {
    "name": "ipython",
    "version": 3
   },
   "file_extension": ".py",
   "mimetype": "text/x-python",
   "name": "python",
   "nbconvert_exporter": "python",
   "pygments_lexer": "ipython3",
   "version": "3.8.10"
  }
 },
 "nbformat": 4,
 "nbformat_minor": 5
}
