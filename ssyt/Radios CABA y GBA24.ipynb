{
 "cells": [
  {
   "cell_type": "code",
   "execution_count": null,
   "id": "387cd6dd",
   "metadata": {},
   "outputs": [],
   "source": [
    "import geopandas as gpd\n",
    "import pandas as pd"
   ]
  },
  {
   "cell_type": "markdown",
   "id": "8cdf28e3",
   "metadata": {},
   "source": [
    "# GBA24"
   ]
  },
  {
   "cell_type": "code",
   "execution_count": null,
   "id": "066fe295",
   "metadata": {},
   "outputs": [],
   "source": [
    "radios_rmba = gpd.read_file('data/radios_rmba.geojson')"
   ]
  },
  {
   "cell_type": "code",
   "execution_count": null,
   "id": "67439d12",
   "metadata": {},
   "outputs": [],
   "source": [
    "radios_inmat_gba = pd.read_csv('data/inmat_gba.csv', encoding='latin-1')"
   ]
  },
  {
   "cell_type": "code",
   "execution_count": null,
   "id": "0be8105b",
   "metadata": {},
   "outputs": [],
   "source": [
    "radios_gba = radios_inmat_gba.iloc[:9166].copy()"
   ]
  },
  {
   "cell_type": "code",
   "execution_count": null,
   "id": "20598745",
   "metadata": {},
   "outputs": [],
   "source": [
    "radios_gba.rename(columns={'C¢digo':'Codigo',\n",
    "                           'Calidad 1': 'Cal1',\n",
    "                           'Calidad 2': 'Cal2',\n",
    "                           'Calidad 3': 'Cal3',\n",
    "                           'Calidad 4': 'Cal4',}, inplace=True)"
   ]
  },
  {
   "cell_type": "code",
   "execution_count": null,
   "id": "080da866",
   "metadata": {},
   "outputs": [],
   "source": [
    "radios_gba['link'] = radios_gba['Codigo'].apply(lambda x: '0'+str(x))"
   ]
  },
  {
   "cell_type": "code",
   "execution_count": null,
   "id": "362dd09a",
   "metadata": {},
   "outputs": [],
   "source": [
    "radios_gba['cod_depto'] = radios_gba['link'].apply(lambda x: x[:5])"
   ]
  },
  {
   "cell_type": "code",
   "execution_count": null,
   "id": "591e5af3",
   "metadata": {},
   "outputs": [],
   "source": [
    "radios_gba.head()"
   ]
  },
  {
   "cell_type": "code",
   "execution_count": null,
   "id": "4cb8f68c",
   "metadata": {},
   "outputs": [],
   "source": [
    "deptos = gpd.read_file('data/departamentos_rmba.geojson')"
   ]
  },
  {
   "cell_type": "code",
   "execution_count": null,
   "id": "30091bbc",
   "metadata": {},
   "outputs": [],
   "source": [
    "deptos_name = dict(zip(deptos['link'], deptos['departamento']))"
   ]
  },
  {
   "cell_type": "code",
   "execution_count": null,
   "id": "d8b16dad",
   "metadata": {},
   "outputs": [],
   "source": [
    "radios_gba['departamento'] = radios_gba['cod_depto'].map(deptos_name)"
   ]
  },
  {
   "cell_type": "code",
   "execution_count": null,
   "id": "0abba333",
   "metadata": {},
   "outputs": [],
   "source": [
    "geom = dict(zip(radios_rmba.link, radios_rmba.geometry))"
   ]
  },
  {
   "cell_type": "code",
   "execution_count": null,
   "id": "fb0f3377",
   "metadata": {},
   "outputs": [],
   "source": [
    "radios_gba = pd.merge(radios_gba, radios_rmba[['link','geometry']], on='link', how='left')"
   ]
  },
  {
   "cell_type": "code",
   "execution_count": null,
   "id": "25d9f811",
   "metadata": {},
   "outputs": [],
   "source": [
    "radios_gba.head()"
   ]
  },
  {
   "cell_type": "code",
   "execution_count": null,
   "id": "3c0c72c0",
   "metadata": {},
   "outputs": [],
   "source": [
    "gdf = gpd.GeoDataFrame(radios_gba)"
   ]
  },
  {
   "cell_type": "code",
   "execution_count": null,
   "id": "3ee0cc14",
   "metadata": {},
   "outputs": [],
   "source": [
    "gdf.plot();"
   ]
  },
  {
   "cell_type": "code",
   "execution_count": null,
   "id": "4c21370c",
   "metadata": {},
   "outputs": [],
   "source": [
    "inmat_gba24 = gdf[['Codigo','Cal1','Cal2','Cal3','Cal4']].copy()"
   ]
  },
  {
   "cell_type": "code",
   "execution_count": null,
   "id": "baba507b",
   "metadata": {},
   "outputs": [],
   "source": [
    "inmat_gba24.iloc[:,1:] = inmat_gba24.iloc[:,1:].astype(int) "
   ]
  },
  {
   "cell_type": "code",
   "execution_count": null,
   "id": "24b3cd34",
   "metadata": {},
   "outputs": [],
   "source": [
    "inmat_gba24"
   ]
  },
  {
   "cell_type": "code",
   "execution_count": null,
   "id": "3e9c23dd",
   "metadata": {},
   "outputs": [],
   "source": [
    "inmat_gba24.to_csv('data/inmat_gba24.csv', index=False)"
   ]
  },
  {
   "cell_type": "code",
   "execution_count": null,
   "id": "c72e0414",
   "metadata": {},
   "outputs": [],
   "source": [
    "gdf.rename(columns={'Codigo':'int_link', 'cod_depto':'link_depto'}, inplace=True)"
   ]
  },
  {
   "cell_type": "code",
   "execution_count": null,
   "id": "1734ebe5",
   "metadata": {},
   "outputs": [],
   "source": [
    "radios_gba24 = gdf[['int_link','link_depto','departamento','geometry']].copy()"
   ]
  },
  {
   "cell_type": "code",
   "execution_count": null,
   "id": "98f774ec",
   "metadata": {},
   "outputs": [],
   "source": [
    "radios_gba24['departamento'].unique()"
   ]
  },
  {
   "cell_type": "code",
   "execution_count": null,
   "id": "58eedba6",
   "metadata": {},
   "outputs": [],
   "source": [
    "OESTE = ['Hurlingham', 'Ituzaingó', 'La Matanza','Merlo', 'Moreno', 'Morón', 'Tres de Febrero']\n",
    "NORTE = ['General San Martín','José C. Paz','Malvinas Argentinas',\n",
    "         'San Fernando','San Isidro', 'San Miguel', 'Tigre','San Fernando',\n",
    "         'San Isidro', 'San Miguel', 'Tigre', 'Vicente López']\n",
    "SUR = ['Almirante Brown', 'Avellaneda', 'Berazategui',\n",
    "       'Esteban Echeverría', 'Ezeiza', 'Florencio Varela',\n",
    "       'Lanús', 'Lomas de Zamora','Quilmes']"
   ]
  },
  {
   "cell_type": "code",
   "execution_count": null,
   "id": "ad1bef12",
   "metadata": {},
   "outputs": [],
   "source": [
    "def region(x):\n",
    "    if x in OESTE:\n",
    "        return 'Bs.As. G.B.A. Zona Oeste'\n",
    "    elif x in NORTE:\n",
    "        return 'Bs.As. G.B.A. Zona Norte'\n",
    "    elif x in SUR:\n",
    "        return 'Bs.As. G.B.A. Zona Sur'"
   ]
  },
  {
   "cell_type": "code",
   "execution_count": null,
   "id": "19566e10",
   "metadata": {},
   "outputs": [],
   "source": [
    "radios_gba24['region'] = radios_gba24['departamento'].map(region)"
   ]
  },
  {
   "cell_type": "code",
   "execution_count": null,
   "id": "134ed55a",
   "metadata": {},
   "outputs": [],
   "source": [
    "radios_gba24.columns"
   ]
  },
  {
   "cell_type": "code",
   "execution_count": null,
   "id": "4d776e1c",
   "metadata": {},
   "outputs": [],
   "source": [
    "radios_gba24"
   ]
  },
  {
   "cell_type": "code",
   "execution_count": null,
   "id": "ffbc45b0",
   "metadata": {},
   "outputs": [],
   "source": [
    "radios_gba24[['int_link', 'link_depto', \n",
    "              'departamento', 'region','geometry']].to_file('data/radios_2010_gba24.geojson', driver='GeoJSON')"
   ]
  },
  {
   "cell_type": "markdown",
   "id": "f9664d1d",
   "metadata": {},
   "source": [
    "# CABA"
   ]
  },
  {
   "cell_type": "code",
   "execution_count": null,
   "id": "5dd9408e",
   "metadata": {},
   "outputs": [],
   "source": [
    "radios_caba = gpd.read_file('https://storage.googleapis.com/python_mdg/carto_cursos/radios_inmat.zip')"
   ]
  },
  {
   "cell_type": "code",
   "execution_count": null,
   "id": "d5c9bf26",
   "metadata": {},
   "outputs": [],
   "source": [
    "radios_caba.loc[radios_caba['BARRIO']==\"b'NU\\\\xd1EZ'\",'BARRIO'] = 'NUNEZ'"
   ]
  },
  {
   "cell_type": "code",
   "execution_count": null,
   "id": "c0e5ac4b",
   "metadata": {},
   "outputs": [],
   "source": [
    "radios_caba_ = radios_caba[['RADIO_I','Codigo','BARRIO','COMUNA','geometry']].copy()"
   ]
  },
  {
   "cell_type": "code",
   "execution_count": null,
   "id": "3b5b9ce0",
   "metadata": {},
   "outputs": [],
   "source": [
    "radios_caba_.rename(columns={'RADIO_I':'_link', 'Codigo':'int_link', \n",
    "                             'BARRIO':'barrio', 'COMUNA':'comuna'}, inplace=True)"
   ]
  },
  {
   "cell_type": "code",
   "execution_count": null,
   "id": "cf9adc68",
   "metadata": {},
   "outputs": [],
   "source": [
    "radios_caba_"
   ]
  },
  {
   "cell_type": "code",
   "execution_count": null,
   "id": "65de5b86",
   "metadata": {},
   "outputs": [],
   "source": [
    "radios_caba_.barrio.unique()"
   ]
  },
  {
   "cell_type": "code",
   "execution_count": null,
   "id": "0e69216f",
   "metadata": {},
   "outputs": [],
   "source": [
    "radios_caba_.barrio.unique()"
   ]
  },
  {
   "cell_type": "code",
   "execution_count": null,
   "id": "7179d132",
   "metadata": {},
   "outputs": [],
   "source": [
    "radios_caba_.to_file('data/radios_2010_caba.geojson', driver='GeoJSON')"
   ]
  },
  {
   "cell_type": "code",
   "execution_count": null,
   "id": "18b5618f",
   "metadata": {},
   "outputs": [],
   "source": [
    "radios_caba_inmat = radios_caba[['Codigo','Cal1','Cal2','Cal3','Cal4']].copy()"
   ]
  },
  {
   "cell_type": "code",
   "execution_count": null,
   "id": "5959e9f8",
   "metadata": {},
   "outputs": [],
   "source": [
    "radios_caba_inmat"
   ]
  },
  {
   "cell_type": "code",
   "execution_count": null,
   "id": "4a2692da",
   "metadata": {},
   "outputs": [],
   "source": [
    "radios_caba_inmat.to_csv('data/inmat_caba.csv', index=False)"
   ]
  }
 ],
 "metadata": {
  "kernelspec": {
   "display_name": "ssyt",
   "language": "python",
   "name": "ssyt"
  },
  "language_info": {
   "codemirror_mode": {
    "name": "ipython",
    "version": 3
   },
   "file_extension": ".py",
   "mimetype": "text/x-python",
   "name": "python",
   "nbconvert_exporter": "python",
   "pygments_lexer": "ipython3",
   "version": "3.8.10"
  }
 },
 "nbformat": 4,
 "nbformat_minor": 5
}
